{
  "nbformat": 4,
  "nbformat_minor": 0,
  "metadata": {
    "colab": {
      "provenance": []
    },
    "kernelspec": {
      "name": "python3",
      "display_name": "Python 3"
    },
    "language_info": {
      "name": "python"
    }
  },
  "cells": [
    {
      "cell_type": "markdown",
      "source": [
        "# BAN200 Test #3"
      ],
      "metadata": {
        "id": "KmDyAPSwjblX"
      }
    },
    {
      "cell_type": "markdown",
      "source": [
        "To complete this test, you will need to modify this document by adding your own Python code."
      ],
      "metadata": {
        "id": "p0XTQcD8mTQA"
      }
    },
    {
      "cell_type": "markdown",
      "source": [
        "You will be saving your answers to each question in a Python dictionary called `answers`."
      ],
      "metadata": {
        "id": "R_rojl1WpLOw"
      }
    },
    {
      "cell_type": "code",
      "source": [
        "answers = {}"
      ],
      "metadata": {
        "id": "no7UuauWkKJd"
      },
      "execution_count": null,
      "outputs": []
    },
    {
      "cell_type": "markdown",
      "source": [
        "At the end of the document, I have provided some code which allows you to download this dictionary as a json file. You will need to download the json file and send it to me using [this form](https://forms.gle/CR7HY9uk4rtWj7Ws8)."
      ],
      "metadata": {
        "id": "h7owPh9FpRnd"
      }
    },
    {
      "cell_type": "markdown",
      "source": [
        "The name of this file must be your student number. To ensure that it has the correct file name when you download it, please enter your student number into  `answers['student_number'] `."
      ],
      "metadata": {
        "id": "9XELsqdUpOVw"
      }
    },
    {
      "cell_type": "code",
      "source": [
        "answers['student_number'] = '0'"
      ],
      "metadata": {
        "id": "zQKL47wqpOe2"
      },
      "execution_count": null,
      "outputs": []
    },
    {
      "cell_type": "markdown",
      "source": [
        "# Part A"
      ],
      "metadata": {
        "id": "Gx8fM8X0jfmQ"
      }
    },
    {
      "cell_type": "markdown",
      "source": [
        "You have a corpus of three documents:\n",
        "\n",
        "```\n",
        "doc[0] = 'what a bad movie'\n",
        "doc[1] = 'great movie'\n",
        "doc[2] = 'horrible movie'\n",
        "```\n",
        "\n",
        "This is represented by the following document-term-matrix:\n",
        "\n",
        "```\n",
        "docid     what     great    bad       movie\n",
        "0         1        0        1         1\n",
        "1         0        1        0         1\n",
        "2         0        0        1         1\n",
        "```"
      ],
      "metadata": {
        "id": "Wra_gBHYjyH9"
      }
    },
    {
      "cell_type": "markdown",
      "source": [
        "### Question 1"
      ],
      "metadata": {
        "id": "qSiOb30glir4"
      }
    },
    {
      "cell_type": "markdown",
      "source": [
        "True or false: this is a bag-of-words representation?"
      ],
      "metadata": {
        "id": "QHfxIlpzlzEx"
      }
    },
    {
      "cell_type": "code",
      "execution_count": null,
      "metadata": {
        "id": "MkEEqOJHjbI5"
      },
      "outputs": [],
      "source": [
        "answers[1] = None # should be either True or False"
      ]
    },
    {
      "cell_type": "markdown",
      "source": [
        "### Question 2"
      ],
      "metadata": {
        "id": "ZV3pMHDFl2ww"
      }
    },
    {
      "cell_type": "markdown",
      "source": [
        "Which word is being lemmatized to \"bad\" in the tokenization algorithm?"
      ],
      "metadata": {
        "id": "UMb_kDdSl2wx"
      }
    },
    {
      "cell_type": "code",
      "execution_count": null,
      "metadata": {
        "id": "6waF9az1l2wx"
      },
      "outputs": [],
      "source": [
        "answers[2] = '' # should be a string"
      ]
    },
    {
      "cell_type": "markdown",
      "source": [
        "### Question 3"
      ],
      "metadata": {
        "id": "f5KkxKjkmEDh"
      }
    },
    {
      "cell_type": "markdown",
      "source": [
        "Which word is being treated as a stop word?"
      ],
      "metadata": {
        "id": "dxDS3dEFmEDi"
      }
    },
    {
      "cell_type": "code",
      "execution_count": null,
      "metadata": {
        "id": "mX5tEg_CmEDi"
      },
      "outputs": [],
      "source": [
        "answers[3] = '' # should be a string"
      ]
    },
    {
      "cell_type": "markdown",
      "source": [
        "### Question 4"
      ],
      "metadata": {
        "id": "Mb9dIyAttRNk"
      }
    },
    {
      "cell_type": "markdown",
      "source": [
        "If you build an inverted index for this corpus, what will the entry for \"bad\" contain? Answer with a Python list."
      ],
      "metadata": {
        "id": "COz2Cn0jtRNk"
      }
    },
    {
      "cell_type": "code",
      "execution_count": null,
      "metadata": {
        "id": "c4EgdmR4tRNk"
      },
      "outputs": [],
      "source": [
        "answers[4] = [] # should be a list"
      ]
    },
    {
      "cell_type": "markdown",
      "source": [
        "### Question 5"
      ],
      "metadata": {
        "id": "sdV52mRStRNl"
      }
    },
    {
      "cell_type": "markdown",
      "source": [
        "What docids would be returned by a boolean search of this corpus for the query \"bad OR great\"? Answer with a Python list."
      ],
      "metadata": {
        "id": "zo5TJp2StRNl"
      }
    },
    {
      "cell_type": "code",
      "execution_count": null,
      "metadata": {
        "id": "EqwTbeO9tRNl"
      },
      "outputs": [],
      "source": [
        "answers[5] = [] # should be a list"
      ]
    },
    {
      "cell_type": "markdown",
      "source": [
        "### Question 6"
      ],
      "metadata": {
        "id": "oL9O2W36tRNl"
      }
    },
    {
      "cell_type": "markdown",
      "source": [
        "What docids would be returned by a boolean search of this corpus for the query \"bad AND what\"? Answer with a Python list."
      ],
      "metadata": {
        "id": "WW0PuRA0tRNl"
      }
    },
    {
      "cell_type": "code",
      "execution_count": null,
      "metadata": {
        "id": "ySZQMHu3tRNl"
      },
      "outputs": [],
      "source": [
        "answers[6] = [] # should be a list"
      ]
    },
    {
      "cell_type": "markdown",
      "source": [
        "# Part B"
      ],
      "metadata": {
        "id": "CDQEhw3puc7r"
      }
    },
    {
      "cell_type": "markdown",
      "source": [
        "You are building a Naive Bayes SPAM model on a corpus of 2,000 documents. 500 of them are HAM and 1,500 of them are SPAM.\n",
        "\n",
        "This table shows the number of SPAM and HAM documents a subset of tokens appear in:\n",
        "\n",
        "```\n",
        "token       spamCount   hamCount\n",
        "prize         100         200\n",
        ":)            200         200\n",
        "claim         500          50\n",
        "```"
      ],
      "metadata": {
        "id": "jF3vqLI3uc71"
      }
    },
    {
      "cell_type": "markdown",
      "source": [
        "### Question 7"
      ],
      "metadata": {
        "id": "kihISFiIv4iq"
      }
    },
    {
      "cell_type": "markdown",
      "source": [
        "What is the SPAM score for the token \"prize\"?"
      ],
      "metadata": {
        "id": "MkK0kVc2v4i0"
      }
    },
    {
      "cell_type": "code",
      "execution_count": null,
      "metadata": {
        "id": "EJQ3qtK5v4i0"
      },
      "outputs": [],
      "source": [
        "answers[7] = 0 # should be a number"
      ]
    },
    {
      "cell_type": "markdown",
      "source": [
        "### Question 8"
      ],
      "metadata": {
        "id": "Tsje8Nh6wBnl"
      }
    },
    {
      "cell_type": "markdown",
      "source": [
        "Score the message \"act now to claim your prize\". (Assume a score of zero for any tokens that don't appear in the table at the top of this section.)"
      ],
      "metadata": {
        "id": "RqMLLZ1awBnl"
      }
    },
    {
      "cell_type": "code",
      "execution_count": null,
      "metadata": {
        "id": "KP0-kUsVwBnl"
      },
      "outputs": [],
      "source": [
        "answers[8] = 0 # should be a number"
      ]
    },
    {
      "cell_type": "markdown",
      "source": [
        "### Question 9"
      ],
      "metadata": {
        "id": "JPzUI2aIwSVv"
      }
    },
    {
      "cell_type": "markdown",
      "source": [
        "Which token (of those listed in the table at the top of this section) is the SPAM-iest?"
      ],
      "metadata": {
        "id": "_lxhDQRuwSVw"
      }
    },
    {
      "cell_type": "code",
      "execution_count": null,
      "metadata": {
        "id": "eDnCkW9LwSVw"
      },
      "outputs": [],
      "source": [
        "answers[9] = '' # should be a string"
      ]
    },
    {
      "cell_type": "markdown",
      "source": [
        "# Part C"
      ],
      "metadata": {
        "id": "jDZR3PR3uk98"
      }
    },
    {
      "cell_type": "markdown",
      "source": [
        "You are given the following lexicon:\n",
        "\n",
        "```\n",
        "great = 4.8\n",
        "bad = -3.4\n",
        "good = 3.1\n",
        "amazing = 5.6\n",
        "horrible = -4.3\n",
        "```"
      ],
      "metadata": {
        "id": "H3T0e2Fguk99"
      }
    },
    {
      "cell_type": "markdown",
      "source": [
        "### Question 10"
      ],
      "metadata": {
        "id": "rtd78k9AwxBF"
      }
    },
    {
      "cell_type": "markdown",
      "source": [
        "Score the message \"great, amazing\""
      ],
      "metadata": {
        "id": "913FWyAAwxBF"
      }
    },
    {
      "cell_type": "code",
      "execution_count": null,
      "metadata": {
        "id": "EYkUxrjFwxBG"
      },
      "outputs": [],
      "source": [
        "answers[10] = 0 # should be a number"
      ]
    },
    {
      "cell_type": "markdown",
      "source": [
        "### Question 11"
      ],
      "metadata": {
        "id": "r8-P_PJww-PC"
      }
    },
    {
      "cell_type": "markdown",
      "source": [
        "Score the message \"not great\""
      ],
      "metadata": {
        "id": "rOcA1Nqaw-PD"
      }
    },
    {
      "cell_type": "code",
      "execution_count": null,
      "metadata": {
        "id": "6VnQmczhw-PD"
      },
      "outputs": [],
      "source": [
        "answers[11] = 0 # should be a number"
      ]
    },
    {
      "cell_type": "markdown",
      "source": [
        "# Part D"
      ],
      "metadata": {
        "id": "tbsSyuqpunBc"
      }
    },
    {
      "cell_type": "markdown",
      "source": [
        "Influencers A, B, C, and D are influencers on Instagram. They have the following followers and rates:\n",
        "\n",
        "```\n",
        "Influencer A is followed by users 0,4,6 and charges $300 per post\n",
        "Influencer B is followed by users 0,2,4,6,8,9 and charges $700 per post\n",
        "Influencer C is followed by users 0,2,5,9 and charges $500 per post\n",
        "Influencer D is followed by users 2,3,6,7,8 and charges $500 per post\n",
        "```"
      ],
      "metadata": {
        "id": "g1dQDUvYunBd"
      }
    },
    {
      "cell_type": "markdown",
      "source": [
        "### Question 12"
      ],
      "metadata": {
        "id": "NFusiD3yyDVH"
      }
    },
    {
      "cell_type": "markdown",
      "source": [
        "What is the unduplicated reach of Influencers A and B?"
      ],
      "metadata": {
        "id": "ZaVdXCg3x5bw"
      }
    },
    {
      "cell_type": "code",
      "execution_count": null,
      "metadata": {
        "id": "gnVjbcIBx5b7"
      },
      "outputs": [],
      "source": [
        "answers[12] = 0 # should be a number"
      ]
    },
    {
      "cell_type": "markdown",
      "source": [
        "### Question 13"
      ],
      "metadata": {
        "id": "29PxHL8jyGiH"
      }
    },
    {
      "cell_type": "markdown",
      "source": [
        "What is the unduplicated reach of Influencers A and C?"
      ],
      "metadata": {
        "id": "E46zIUSPyGiI"
      }
    },
    {
      "cell_type": "code",
      "execution_count": null,
      "metadata": {
        "id": "hC57YPCgyGiI"
      },
      "outputs": [],
      "source": [
        "answers[13] = 0 # should be a number"
      ]
    },
    {
      "cell_type": "markdown",
      "source": [
        "### Question 14"
      ],
      "metadata": {
        "id": "cfuQ5L2yyy58"
      }
    },
    {
      "cell_type": "markdown",
      "source": [
        "If you have a budget of $1000, which influencers should you hire to maximize your unduplicated reach? (Answer as a Python list.)"
      ],
      "metadata": {
        "id": "PpWNiWDAyy59"
      }
    },
    {
      "cell_type": "code",
      "execution_count": null,
      "metadata": {
        "id": "34vGX23Myy59"
      },
      "outputs": [],
      "source": [
        "answers[14] = [] # should be a list"
      ]
    },
    {
      "cell_type": "markdown",
      "source": [
        "# Part E"
      ],
      "metadata": {
        "id": "DVCcShsvx9Zx"
      }
    },
    {
      "cell_type": "markdown",
      "source": [
        "You have a Pandas dataframe called `email_corpus`.\n",
        "\n",
        "Each row in this dataset corresponds to a marketing email from a retailer. Every email had a subject line that contained either the word \"coupon\" or the word \"sale\". In addition, every subject line indicated the percentage savings offered by the sale/coupon (e.g. \"10% off\", \"20% off\", etc.).\n",
        "\n",
        "The dataset contains the following columns:\n",
        "- `open_rate`: the open rate of the email\n",
        "- `coupon_or_sale_flag`: 1 if the email's subject line contained the word \"coupon\", 0 if the email's subject line contained the word \"sale\"\n",
        "- `savings_rate`: the percentage savings offered by the sale/coupon, expressed in percentage points (i.e. if the subject line said \"10% off\" `savings_rate` would be equal to 10)\n",
        "\n",
        "You want to build a linear regression that predicts the email's open rate based on a) whether the word \"coupon\" or the word \"sale\" was used, and b) what savings rate was offered."
      ],
      "metadata": {
        "id": "HZYBXL9LyTRF"
      }
    },
    {
      "cell_type": "markdown",
      "source": [
        "### Question 15"
      ],
      "metadata": {
        "id": "QT20qVe8yBMi"
      }
    },
    {
      "cell_type": "markdown",
      "source": [
        "What is the dependent variable in your regression?"
      ],
      "metadata": {
        "id": "kscnH1muyEw1"
      }
    },
    {
      "cell_type": "code",
      "source": [
        "answers[15] = '' # should be a string"
      ],
      "metadata": {
        "id": "UWvsuPz4yFQ6"
      },
      "execution_count": null,
      "outputs": []
    },
    {
      "cell_type": "markdown",
      "source": [
        "### Question 16"
      ],
      "metadata": {
        "id": "ZVPiAVEo1feY"
      }
    },
    {
      "cell_type": "markdown",
      "source": [
        "Which independent variable in your regression is categorical?"
      ],
      "metadata": {
        "id": "Cp_FN1nq1fec"
      }
    },
    {
      "cell_type": "code",
      "source": [
        "answers[16] = '' # should be a string"
      ],
      "metadata": {
        "id": "lnfVz_Dq1fed"
      },
      "execution_count": null,
      "outputs": []
    },
    {
      "cell_type": "markdown",
      "source": [
        "### Question 17"
      ],
      "metadata": {
        "id": "I8_PrmhK1qCr"
      }
    },
    {
      "cell_type": "markdown",
      "source": [
        "Which independent variable in your regression is continuous?"
      ],
      "metadata": {
        "id": "wHH73BN61qCv"
      }
    },
    {
      "cell_type": "code",
      "source": [
        "answers[17] = '' # should be a string"
      ],
      "metadata": {
        "id": "0JxTKc4I1qCw"
      },
      "execution_count": null,
      "outputs": []
    },
    {
      "cell_type": "markdown",
      "source": [
        "### Question 18"
      ],
      "metadata": {
        "id": "74yxrryj1wS6"
      }
    },
    {
      "cell_type": "markdown",
      "source": [
        "Your linear regression equation is:\n",
        "\n",
        "`20 - coupon_or_sale_flag*10 + savings_rate*0.5`\n",
        "\n",
        "What do you predict the open rate to be for an email with the subject line \"Look inside for a courpon worth 10% off!\"?"
      ],
      "metadata": {
        "id": "NfSbcfIn1wS8"
      }
    },
    {
      "cell_type": "code",
      "source": [
        "answers[18] = 0 # should be an integer"
      ],
      "metadata": {
        "id": "zNsR5qUz1wS8"
      },
      "execution_count": null,
      "outputs": []
    },
    {
      "cell_type": "markdown",
      "source": [
        "### Question 19"
      ],
      "metadata": {
        "id": "b8Rrv5Nv2iKQ"
      }
    },
    {
      "cell_type": "markdown",
      "source": [
        "Your linear regression equation is:\n",
        "\n",
        "`20 - coupon_or_sale_flag*10 + savings_rate*0.5`\n",
        "\n",
        "What do you predict the open rate to be for an email with the subject line \"Don't miss out on our 20% off sale!\"?"
      ],
      "metadata": {
        "id": "KwKxNptJ2iKT"
      }
    },
    {
      "cell_type": "code",
      "source": [
        "answers[19] = 0 # should be an integer"
      ],
      "metadata": {
        "id": "1LYdWMQo2iKU"
      },
      "execution_count": null,
      "outputs": []
    },
    {
      "cell_type": "markdown",
      "source": [
        "### Question 20"
      ],
      "metadata": {
        "id": "gJQqg_Dr2yUY"
      }
    },
    {
      "cell_type": "markdown",
      "source": [
        "Your linear regression equation is:\n",
        "\n",
        "`20 - coupon_or_sale_flag*10 + savings_rate*0.5`\n",
        "\n",
        "Which word is better to use: \"coupon\" or \"sale\"?"
      ],
      "metadata": {
        "id": "AWPCPznZ2yUY"
      }
    },
    {
      "cell_type": "code",
      "source": [
        "answers[20] = '' # should be a string"
      ],
      "metadata": {
        "id": "0DR_0pv32yUZ"
      },
      "execution_count": null,
      "outputs": []
    },
    {
      "cell_type": "markdown",
      "source": [
        "# Part F"
      ],
      "metadata": {
        "id": "MD09dxJ2F0Tl"
      }
    },
    {
      "cell_type": "markdown",
      "source": [
        "### Question 21"
      ],
      "metadata": {
        "id": "YA7JEBG5F8gS"
      }
    },
    {
      "cell_type": "markdown",
      "source": [
        "What is the activation function for a logistic regression?"
      ],
      "metadata": {
        "id": "viG1GUfHGJkY"
      }
    },
    {
      "cell_type": "code",
      "source": [
        "answers[21] = '' # should be a string"
      ],
      "metadata": {
        "id": "GuBgaxIfF8zr"
      },
      "execution_count": null,
      "outputs": []
    },
    {
      "cell_type": "markdown",
      "source": [
        "### Question 22"
      ],
      "metadata": {
        "id": "dOw4n3G9OeeD"
      }
    },
    {
      "cell_type": "markdown",
      "source": [
        "A deep learning model, like the multi-layer model we looked at in Week 9, predicts sentiment for movie reviews. If the model uses a 2000-word vocabulary, and the first layer has 10 (output) units, how many paramaters are there in layer 1."
      ],
      "metadata": {
        "id": "sBK6n4QKOeeF"
      }
    },
    {
      "cell_type": "code",
      "source": [
        "answers[22] =  0 # should be an integer"
      ],
      "metadata": {
        "id": "AyjTKn38OeeG"
      },
      "execution_count": null,
      "outputs": []
    },
    {
      "cell_type": "markdown",
      "source": [
        "### Question 23"
      ],
      "metadata": {
        "id": "ZKMztCW1PJLz"
      }
    },
    {
      "cell_type": "markdown",
      "source": [
        "A deep learning model, like the multi-layer model we looked at in Week 9, predicts sentiment for movie reviews. If layer 1 has 10 output units and layer 2 has 10 output units, how many paramaters are there in layer 2?"
      ],
      "metadata": {
        "id": "RQrA6pRMPJL2"
      }
    },
    {
      "cell_type": "code",
      "source": [
        "answers[23] =  0 # should be an integer"
      ],
      "metadata": {
        "id": "Fp-vrZFdPJL3"
      },
      "execution_count": null,
      "outputs": []
    },
    {
      "cell_type": "markdown",
      "source": [
        "### Question 24"
      ],
      "metadata": {
        "id": "H6i5P1mdPJfO"
      }
    },
    {
      "cell_type": "markdown",
      "source": [
        "A deep learning model, like the multi-layer model we looked at in Week 9, predicts sentiment for movie reviews. If layer 2 has 10 output units and layer 3 is the final layer, how many paramaters are there in layer 3?"
      ],
      "metadata": {
        "id": "vwdIKixcPJfP"
      }
    },
    {
      "cell_type": "code",
      "source": [
        "answers[24] =  0 # should be an integer"
      ],
      "metadata": {
        "id": "cleiXQDVPJfQ"
      },
      "execution_count": null,
      "outputs": []
    },
    {
      "cell_type": "markdown",
      "source": [
        "### Question 25"
      ],
      "metadata": {
        "id": "oYciLSxjPuwt"
      }
    },
    {
      "cell_type": "markdown",
      "source": [
        "True or false: multi-layer models are hard to over-train."
      ],
      "metadata": {
        "id": "X-ZSkTciPuwy"
      }
    },
    {
      "cell_type": "code",
      "execution_count": null,
      "metadata": {
        "id": "awDZuAh_Puwy"
      },
      "outputs": [],
      "source": [
        "answers[25] = None # should be either True or False"
      ]
    },
    {
      "cell_type": "markdown",
      "source": [
        "### Question 26"
      ],
      "metadata": {
        "id": "5LgH4DmHPvb_"
      }
    },
    {
      "cell_type": "markdown",
      "source": [
        "True or false: Word2Vec can help computers understand the similarity between different words."
      ],
      "metadata": {
        "id": "zNEPztmlPvcB"
      }
    },
    {
      "cell_type": "code",
      "execution_count": null,
      "metadata": {
        "id": "RUram7fRPvcB"
      },
      "outputs": [],
      "source": [
        "answers[26] = None # should be either True or False"
      ]
    },
    {
      "cell_type": "markdown",
      "source": [
        "# Download and Submit Answers"
      ],
      "metadata": {
        "id": "i_5eEfh8pxIr"
      }
    },
    {
      "cell_type": "markdown",
      "source": [
        "The code below allows you to download `answers` as a json file. The name of this json file will be the student number you entered at the top of this document. Once you have downloaded this file, you will need to submit it using the form linked above. Make sure that you have populated `answers` correctly."
      ],
      "metadata": {
        "id": "OmAUy9beqNOk"
      }
    },
    {
      "cell_type": "code",
      "source": [
        "from google.colab import files\n",
        "import json\n",
        "with open(str(answers['student_number']),'w') as f:\n",
        "  f.write(json.dumps(answers))\n",
        "files.download(str(answers['student_number']))"
      ],
      "metadata": {
        "colab": {
          "base_uri": "https://localhost:8080/",
          "height": 17
        },
        "id": "_hfaw-0ip7vZ",
        "outputId": "bfb37989-471e-4f19-a87a-46a9ca03528d"
      },
      "execution_count": null,
      "outputs": [
        {
          "output_type": "display_data",
          "data": {
            "text/plain": [
              "<IPython.core.display.Javascript object>"
            ],
            "application/javascript": [
              "\n",
              "    async function download(id, filename, size) {\n",
              "      if (!google.colab.kernel.accessAllowed) {\n",
              "        return;\n",
              "      }\n",
              "      const div = document.createElement('div');\n",
              "      const label = document.createElement('label');\n",
              "      label.textContent = `Downloading \"${filename}\": `;\n",
              "      div.appendChild(label);\n",
              "      const progress = document.createElement('progress');\n",
              "      progress.max = size;\n",
              "      div.appendChild(progress);\n",
              "      document.body.appendChild(div);\n",
              "\n",
              "      const buffers = [];\n",
              "      let downloaded = 0;\n",
              "\n",
              "      const channel = await google.colab.kernel.comms.open(id);\n",
              "      // Send a message to notify the kernel that we're ready.\n",
              "      channel.send({})\n",
              "\n",
              "      for await (const message of channel.messages) {\n",
              "        // Send a message to notify the kernel that we're ready.\n",
              "        channel.send({})\n",
              "        if (message.buffers) {\n",
              "          for (const buffer of message.buffers) {\n",
              "            buffers.push(buffer);\n",
              "            downloaded += buffer.byteLength;\n",
              "            progress.value = downloaded;\n",
              "          }\n",
              "        }\n",
              "      }\n",
              "      const blob = new Blob(buffers, {type: 'application/binary'});\n",
              "      const a = document.createElement('a');\n",
              "      a.href = window.URL.createObjectURL(blob);\n",
              "      a.download = filename;\n",
              "      div.appendChild(a);\n",
              "      a.click();\n",
              "      div.remove();\n",
              "    }\n",
              "  "
            ]
          },
          "metadata": {}
        },
        {
          "output_type": "display_data",
          "data": {
            "text/plain": [
              "<IPython.core.display.Javascript object>"
            ],
            "application/javascript": [
              "download(\"download_60321cae-8c55-4ea2-8a09-f0b570a644fc\", \"0\", 195)"
            ]
          },
          "metadata": {}
        }
      ]
    }
  ]
}